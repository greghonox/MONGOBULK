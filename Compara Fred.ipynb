{
 "cells": [
  {
   "cell_type": "code",
   "execution_count": 416,
   "metadata": {},
   "outputs": [],
   "source": [
    "import json\n",
    "from ast import literal_eval"
   ]
  },
  {
   "cell_type": "code",
   "execution_count": 417,
   "metadata": {},
   "outputs": [],
   "source": [
    "ARQUIVO_JSON = '/home/gregorio/Downloads/downloaded-logs-20220221-120024.json'\n",
    "ARQUIVO_EXCEL = '/home/gregorio/Downloads/Relação de apólices - Fred.csv'\n"
   ]
  },
  {
   "cell_type": "code",
   "execution_count": 418,
   "metadata": {},
   "outputs": [
    {
     "data": {
      "text/plain": [
       "dict_keys(['textPayload', 'insertId', 'resource', 'timestamp', 'severity', 'labels', 'logName', 'trace', 'receiveTimestamp'])"
      ]
     },
     "execution_count": 418,
     "metadata": {},
     "output_type": "execute_result"
    }
   ],
   "source": [
    "jso = json.load(open(ARQUIVO_JSON))\n",
    "jso[0].keys()"
   ]
  },
  {
   "cell_type": "code",
   "execution_count": 419,
   "metadata": {},
   "outputs": [],
   "source": [
    "csv = open(ARQUIVO_EXCEL)\n",
    "proposals_csv = [c.split(';') for c in csv.readlines()]"
   ]
  },
  {
   "cell_type": "code",
   "execution_count": 420,
   "metadata": {},
   "outputs": [],
   "source": [
    "def y(x): return x.get('textPayload')\n",
    "\n",
    "def m(x):\n",
    "    try:\n",
    "        return literal_eval(x) if isinstance(x, str) else literal_eval(x.get(\"textPayload\"))\n",
    "    except Exception as e: \n",
    "        return None\n",
    "  \n",
    "\n",
    "proposals = [m(proposal).get('report') for proposal in jso if m(proposal)]"
   ]
  },
  {
   "cell_type": "code",
   "execution_count": null,
   "metadata": {},
   "outputs": [],
   "source": []
  }
 ],
 "metadata": {
  "interpreter": {
   "hash": "128e908363acb280a47a15c84574337f3ac3285f817d31aefc25b0f997ee3c95"
  },
  "kernelspec": {
   "display_name": "Python 3.9.7 64-bit ('jupyter': virtualenv)",
   "language": "python",
   "name": "python3"
  },
  "language_info": {
   "codemirror_mode": {
    "name": "ipython",
    "version": 3
   },
   "file_extension": ".py",
   "mimetype": "text/x-python",
   "name": "python",
   "nbconvert_exporter": "python",
   "pygments_lexer": "ipython3",
   "version": "3.9.7"
  },
  "orig_nbformat": 4
 },
 "nbformat": 4,
 "nbformat_minor": 2
}
