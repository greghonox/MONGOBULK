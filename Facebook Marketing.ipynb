{
 "cells": [
  {
   "cell_type": "code",
   "execution_count": 19,
   "metadata": {},
   "outputs": [],
   "source": [
    "from requests import get, post\n",
    "from datetime import datetime, timedelta\n",
    "from hashlib import sha256\n"
   ]
  },
  {
   "cell_type": "markdown",
   "metadata": {},
   "source": [
    "### REFENCIAS:\n",
    "[grap api](https://developers.facebook.com/docs/graph-api/overview/)\n",
    "\n",
    "[grap events](https://developers.facebook.com/docs/marketing-api/app-event-api/)"
   ]
  },
  {
   "cell_type": "code",
   "execution_count": 20,
   "metadata": {},
   "outputs": [],
   "source": [
    "access_token = 'EAADz7c3Kav8BABUuu2Qt7jaNr35V8YTWZCRsvrQm48POeyMsA9YqHEjzQzDDNzjJNZC0fbSSa0z2bfnZBKj5hA4ZBy3wK71trj6j9MRZCKAFjec2sGFx1kBO3fEWRYRCAjHxkZCRkZAspyvBmcmviktBL0HE4lGBMbBxKKrwnGdKAnRbanw5ekW'\n",
    "app_id = '705254914190785'\n",
    "api_version = 'v12.0'\n"
   ]
  },
  {
   "cell_type": "code",
   "execution_count": 21,
   "metadata": {},
   "outputs": [],
   "source": [
    "#  Graph API\n",
    "grap_pixels = f\"https://graph.facebook.com/{api_version}/{app_id}/events?access_token={access_token}.\"\n"
   ]
  },
  {
   "cell_type": "code",
   "execution_count": 22,
   "metadata": {},
   "outputs": [],
   "source": [
    "json = {\n",
    "    \"data\": [\n",
    "        {\n",
    "            \"action_source\": \"website\",\n",
    "            \"event_name\": \"Custumer\",\n",
    "            \"event_time\": int(round(datetime.now().timestamp())),\n",
    "            \"user_data\": {\n",
    "                \"em\": sha256(\"GREGORIO@GMAIL.COM\".encode()).hexdigest(),\n",
    "            },\n",
    "            \"custom_data\":{\n",
    "                '_id': '606f3cf486992d1981cf374c',\n",
    "                'email': 'quotationxxxx@test.com',\n",
    "                'provider': 'facebook',\n",
    "                'quotation_id': 2,\n",
    "            }\n",
    "        }\n",
    "    ]\n",
    "}\n"
   ]
  },
  {
   "cell_type": "code",
   "execution_count": 23,
   "metadata": {},
   "outputs": [],
   "source": [
    "def GET(url):    \n",
    "    http = get(url)\n",
    "    print(url)\n",
    "    print(http, http.content)\n",
    "\n",
    "\n",
    "def POST(url, data):\n",
    "    http = post(url, json=data)\n",
    "    print(url)\n",
    "    print(http, http.content)\n",
    "    return http\n"
   ]
  },
  {
   "cell_type": "code",
   "execution_count": 25,
   "metadata": {},
   "outputs": [
    {
     "name": "stdout",
     "output_type": "stream",
     "text": [
      "https://graph.facebook.com/v12.0/705254914190785/events?access_token=EAADz7c3Kav8BAAHg85ZCRveoUY0VLjY2DhX34TcWwnEbFuHXVK1pkXtkW4FXD0Hw01JZAZBuRFXf28yFM0jFllZCEPdzPUkPZBBZCkqa3WZCZBXN6b5yoMabsJjvYP8lpZAHTdlNZBh8IrZAKZCuJFJaLD3sRvmMlrQam8ifEJjRltQ1weUNBSewvB3n.\n",
      "<Response [200]> b'{\"events_received\":1,\"messages\":[],\"fbtrace_id\":\"A0Bb2lnqrw72Xqt2uazsOMF\"}'\n",
      "https://graph.facebook.com/v12.0/705254914190785/events?access_token=EAADz7c3Kav8BAAHg85ZCRveoUY0VLjY2DhX34TcWwnEbFuHXVK1pkXtkW4FXD0Hw01JZAZBuRFXf28yFM0jFllZCEPdzPUkPZBBZCkqa3WZCZBXN6b5yoMabsJjvYP8lpZAHTdlNZBh8IrZAKZCuJFJaLD3sRvmMlrQam8ifEJjRltQ1weUNBSewvB3n.\n",
      "<Response [200]> b'{\"events_received\":1,\"messages\":[],\"fbtrace_id\":\"AEfXYDKhCgNf7YWBqztVKhD\"}'\n",
      "https://graph.facebook.com/v12.0/705254914190785/events?access_token=EAADz7c3Kav8BAAHg85ZCRveoUY0VLjY2DhX34TcWwnEbFuHXVK1pkXtkW4FXD0Hw01JZAZBuRFXf28yFM0jFllZCEPdzPUkPZBBZCkqa3WZCZBXN6b5yoMabsJjvYP8lpZAHTdlNZBh8IrZAKZCuJFJaLD3sRvmMlrQam8ifEJjRltQ1weUNBSewvB3n.\n",
      "<Response [200]> b'{\"events_received\":1,\"messages\":[],\"fbtrace_id\":\"AjmK3oCUhWOnAMMnlIPyBv9\"}'\n",
      "https://graph.facebook.com/v12.0/705254914190785/events?access_token=EAADz7c3Kav8BAAHg85ZCRveoUY0VLjY2DhX34TcWwnEbFuHXVK1pkXtkW4FXD0Hw01JZAZBuRFXf28yFM0jFllZCEPdzPUkPZBBZCkqa3WZCZBXN6b5yoMabsJjvYP8lpZAHTdlNZBh8IrZAKZCuJFJaLD3sRvmMlrQam8ifEJjRltQ1weUNBSewvB3n.\n",
      "<Response [200]> b'{\"events_received\":1,\"messages\":[],\"fbtrace_id\":\"AXeTqglecz-5XyIZh9eUZT1\"}'\n",
      "https://graph.facebook.com/v12.0/705254914190785/events?access_token=EAADz7c3Kav8BAAHg85ZCRveoUY0VLjY2DhX34TcWwnEbFuHXVK1pkXtkW4FXD0Hw01JZAZBuRFXf28yFM0jFllZCEPdzPUkPZBBZCkqa3WZCZBXN6b5yoMabsJjvYP8lpZAHTdlNZBh8IrZAKZCuJFJaLD3sRvmMlrQam8ifEJjRltQ1weUNBSewvB3n.\n",
      "<Response [200]> b'{\"events_received\":1,\"messages\":[],\"fbtrace_id\":\"AxqCh5ekx0YDt-YJWFJ3j3P\"}'\n",
      "https://graph.facebook.com/v12.0/705254914190785/events?access_token=EAADz7c3Kav8BAAHg85ZCRveoUY0VLjY2DhX34TcWwnEbFuHXVK1pkXtkW4FXD0Hw01JZAZBuRFXf28yFM0jFllZCEPdzPUkPZBBZCkqa3WZCZBXN6b5yoMabsJjvYP8lpZAHTdlNZBh8IrZAKZCuJFJaLD3sRvmMlrQam8ifEJjRltQ1weUNBSewvB3n.\n",
      "<Response [200]> b'{\"events_received\":1,\"messages\":[],\"fbtrace_id\":\"AmBkkgnWAw3sHHLt4LJ2pvT\"}'\n",
      "https://graph.facebook.com/v12.0/705254914190785/events?access_token=EAADz7c3Kav8BAAHg85ZCRveoUY0VLjY2DhX34TcWwnEbFuHXVK1pkXtkW4FXD0Hw01JZAZBuRFXf28yFM0jFllZCEPdzPUkPZBBZCkqa3WZCZBXN6b5yoMabsJjvYP8lpZAHTdlNZBh8IrZAKZCuJFJaLD3sRvmMlrQam8ifEJjRltQ1weUNBSewvB3n.\n",
      "<Response [200]> b'{\"events_received\":1,\"messages\":[],\"fbtrace_id\":\"A-Thc7-nTQGtaCNVbGcgzg8\"}'\n",
      "https://graph.facebook.com/v12.0/705254914190785/events?access_token=EAADz7c3Kav8BAAHg85ZCRveoUY0VLjY2DhX34TcWwnEbFuHXVK1pkXtkW4FXD0Hw01JZAZBuRFXf28yFM0jFllZCEPdzPUkPZBBZCkqa3WZCZBXN6b5yoMabsJjvYP8lpZAHTdlNZBh8IrZAKZCuJFJaLD3sRvmMlrQam8ifEJjRltQ1weUNBSewvB3n.\n",
      "<Response [200]> b'{\"events_received\":1,\"messages\":[],\"fbtrace_id\":\"AZYodTIRpw3Q6JKteRT6skO\"}'\n",
      "https://graph.facebook.com/v12.0/705254914190785/events?access_token=EAADz7c3Kav8BAAHg85ZCRveoUY0VLjY2DhX34TcWwnEbFuHXVK1pkXtkW4FXD0Hw01JZAZBuRFXf28yFM0jFllZCEPdzPUkPZBBZCkqa3WZCZBXN6b5yoMabsJjvYP8lpZAHTdlNZBh8IrZAKZCuJFJaLD3sRvmMlrQam8ifEJjRltQ1weUNBSewvB3n.\n",
      "<Response [200]> b'{\"events_received\":1,\"messages\":[],\"fbtrace_id\":\"A4puTUarOhTlNL0zKyxRRf5\"}'\n",
      "https://graph.facebook.com/v12.0/705254914190785/events?access_token=EAADz7c3Kav8BAAHg85ZCRveoUY0VLjY2DhX34TcWwnEbFuHXVK1pkXtkW4FXD0Hw01JZAZBuRFXf28yFM0jFllZCEPdzPUkPZBBZCkqa3WZCZBXN6b5yoMabsJjvYP8lpZAHTdlNZBh8IrZAKZCuJFJaLD3sRvmMlrQam8ifEJjRltQ1weUNBSewvB3n.\n",
      "<Response [200]> b'{\"events_received\":1,\"messages\":[],\"fbtrace_id\":\"AaTGXYoQVbi3JrfCWolqRth\"}'\n"
     ]
    }
   ],
   "source": [
    "for _ in range(10): POST(grap_pixels, json)\n"
   ]
  },
  {
   "cell_type": "code",
   "execution_count": null,
   "metadata": {},
   "outputs": [],
   "source": []
  }
 ],
 "metadata": {
  "interpreter": {
   "hash": "128e908363acb280a47a15c84574337f3ac3285f817d31aefc25b0f997ee3c95"
  },
  "kernelspec": {
   "display_name": "Python 3.9.7 64-bit ('jupyter': virtualenv)",
   "language": "python",
   "name": "python3"
  },
  "language_info": {
   "codemirror_mode": {
    "name": "ipython",
    "version": 3
   },
   "file_extension": ".py",
   "mimetype": "text/x-python",
   "name": "python",
   "nbconvert_exporter": "python",
   "pygments_lexer": "ipython3",
   "version": "3.9.7"
  },
  "orig_nbformat": 4
 },
 "nbformat": 4,
 "nbformat_minor": 2
}
