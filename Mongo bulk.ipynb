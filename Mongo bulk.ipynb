{
 "cells": [
  {
   "cell_type": "markdown",
   "metadata": {},
   "source": [
    "### Utilizando o conceito de transações atomica no mongo\n",
    "[Referencia 1](https://www.geeksforgeeks.org/python-mongodb-delete_many/)\n",
    "[Referencia 2](https://pymongo.readthedocs.io/en/stable/examples/bulk.html)\n",
    "[Referencia 3](https://kb.objectrocket.com/mongo-db/how-to-bulk-insert-multiple-documents-to-a-mongodb-collection-using-python-352)"
   ]
  },
  {
   "cell_type": "code",
   "execution_count": 30,
   "metadata": {},
   "outputs": [],
   "source": [
    "from pymongo import MongoClient, InsertOne, DeleteOne, DeleteMany, ReplaceOne, DeleteMany\n"
   ]
  },
  {
   "cell_type": "code",
   "execution_count": 31,
   "metadata": {},
   "outputs": [],
   "source": [
    "# create connection with local base \n",
    "mongo_url = 'mongodb://localhost:27017/'\n",
    "db = MongoClient(mongo_url)\n",
    "database = db['local']\n",
    "collect = database['test']\n"
   ]
  },
  {
   "cell_type": "code",
   "execution_count": 32,
   "metadata": {},
   "outputs": [],
   "source": [
    "# defining the requests\n",
    "requests = [\n",
    "            DeleteMany({}),\n",
    "            InsertOne({\"fruta\": \"banana\"}),\n",
    "            InsertOne({\"fruta\": \"uva\"}),\n",
    "            DeleteOne({\"fruta\": \"uva\"}),\n",
    "            InsertOne({\"fruta\": \"cenoura\"}),\n",
    "            InsertOne({\"fruta\": \"laranja\"}), \n",
    "            InsertOne({\"fruta\": \"maça\"}),\n",
    "            ReplaceOne({\"fruta\": \"cenoura\"}, {\"fruta\": \"manga\"})\n",
    "        ]\n"
   ]
  },
  {
   "cell_type": "code",
   "execution_count": 33,
   "metadata": {},
   "outputs": [
    {
     "data": {
      "text/plain": [
       "<pymongo.results.BulkWriteResult at 0x7f21d2773340>"
      ]
     },
     "execution_count": 33,
     "metadata": {},
     "output_type": "execute_result"
    }
   ],
   "source": [
    "# executing the requests\n",
    "collect.bulk_write(requests)\n"
   ]
  },
  {
   "cell_type": "code",
   "execution_count": 34,
   "metadata": {},
   "outputs": [
    {
     "name": "stdout",
     "output_type": "stream",
     "text": [
      "{'_id': ObjectId('6258095083c0254c6e77b911'), 'fruta': 'banana'}\n",
      "{'_id': ObjectId('6258095083c0254c6e77b913'), 'fruta': 'manga'}\n",
      "{'_id': ObjectId('6258095083c0254c6e77b914'), 'fruta': 'laranja'}\n",
      "{'_id': ObjectId('6258095083c0254c6e77b915'), 'fruta': 'maça'}\n"
     ]
    }
   ],
   "source": [
    "# Query\n",
    "for item in collect.find({}):\n",
    "    print(item)"
   ]
  },
  {
   "cell_type": "code",
   "execution_count": 35,
   "metadata": {},
   "outputs": [
    {
     "data": {
      "text/plain": [
       "<pymongo.results.InsertManyResult at 0x7f21d0211d60>"
      ]
     },
     "execution_count": 35,
     "metadata": {},
     "output_type": "execute_result"
    }
   ],
   "source": [
    "# insert many with collection\n",
    "collect.insert_many({\"fruta\": f\"laranja {x}\"} for x in range(10))\n"
   ]
  },
  {
   "cell_type": "code",
   "execution_count": 36,
   "metadata": {},
   "outputs": [
    {
     "name": "stdout",
     "output_type": "stream",
     "text": [
      "[{'_id': ObjectId('6258095183c0254c6e77b917'), 'fruta': 'laranja 1'}]\n",
      "[{'_id': ObjectId('6258095183c0254c6e77b917'), 'fruta': 'pera 1'}]\n"
     ]
    }
   ],
   "source": [
    "# update many with collection\n",
    "print([x for x in collect.find({\"fruta\": \"laranja 1\"})])\n",
    "collect.update_many({\"fruta\": \"laranja 1\"}, {\"$set\": {\"fruta\": \"pera 1\"}})\n",
    "print([x for x in collect.find({\"fruta\": {\"$regex\": \"pera.*\"}})])\n"
   ]
  },
  {
   "cell_type": "code",
   "execution_count": 37,
   "metadata": {},
   "outputs": [
    {
     "name": "stdout",
     "output_type": "stream",
     "text": [
      "{'_id': ObjectId('6258095083c0254c6e77b911'), 'fruta': 'banana'}\n",
      "{'_id': ObjectId('6258095083c0254c6e77b913'), 'fruta': 'manga'}\n",
      "{'_id': ObjectId('6258095083c0254c6e77b914'), 'fruta': 'laranja'}\n",
      "{'_id': ObjectId('6258095083c0254c6e77b915'), 'fruta': 'maça'}\n",
      "{'_id': ObjectId('6258095183c0254c6e77b916'), 'fruta': 'laranja 0'}\n",
      "{'_id': ObjectId('6258095183c0254c6e77b917'), 'fruta': 'pera 1'}\n",
      "{'_id': ObjectId('6258095183c0254c6e77b918'), 'fruta': 'laranja 2'}\n",
      "{'_id': ObjectId('6258095183c0254c6e77b919'), 'fruta': 'laranja 3'}\n",
      "{'_id': ObjectId('6258095183c0254c6e77b91a'), 'fruta': 'laranja 4'}\n",
      "{'_id': ObjectId('6258095183c0254c6e77b91b'), 'fruta': 'laranja 5'}\n",
      "{'_id': ObjectId('6258095183c0254c6e77b91c'), 'fruta': 'laranja 6'}\n",
      "{'_id': ObjectId('6258095183c0254c6e77b91d'), 'fruta': 'laranja 7'}\n",
      "{'_id': ObjectId('6258095183c0254c6e77b91e'), 'fruta': 'laranja 8'}\n",
      "{'_id': ObjectId('6258095183c0254c6e77b91f'), 'fruta': 'laranja 9'}\n"
     ]
    }
   ],
   "source": [
    "# Query\n",
    "for item in collect.find({}):\n",
    "    print(item)\n"
   ]
  },
  {
   "cell_type": "code",
   "execution_count": 38,
   "metadata": {},
   "outputs": [
    {
     "name": "stdout",
     "output_type": "stream",
     "text": [
      "{'_id': ObjectId('6258095083c0254c6e77b911'), 'fruta': 'banana'}\n",
      "{'_id': ObjectId('6258095083c0254c6e77b913'), 'fruta': 'manga'}\n",
      "{'_id': ObjectId('6258095083c0254c6e77b914'), 'fruta': 'laranja'}\n",
      "{'_id': ObjectId('6258095083c0254c6e77b915'), 'fruta': 'maça'}\n",
      "{'_id': ObjectId('6258095183c0254c6e77b917'), 'fruta': 'pera 1'}\n",
      "{'_id': ObjectId('6258095183c0254c6e77b918'), 'fruta': 'laranja 2'}\n",
      "{'_id': ObjectId('6258095183c0254c6e77b919'), 'fruta': 'laranja 3'}\n",
      "{'_id': ObjectId('6258095183c0254c6e77b91a'), 'fruta': 'laranja 4'}\n",
      "{'_id': ObjectId('6258095183c0254c6e77b91b'), 'fruta': 'laranja 5'}\n",
      "{'_id': ObjectId('6258095183c0254c6e77b91c'), 'fruta': 'laranja 6'}\n",
      "{'_id': ObjectId('6258095183c0254c6e77b91d'), 'fruta': 'laranja 7'}\n",
      "{'_id': ObjectId('6258095183c0254c6e77b91e'), 'fruta': 'laranja 8'}\n",
      "{'_id': ObjectId('6258095183c0254c6e77b91f'), 'fruta': 'laranja 9'}\n"
     ]
    }
   ],
   "source": [
    "# remove with regex\n",
    "collect.bulk_write([DeleteOne({\"fruta\": {\"$regex\": \"^l.*\\s\\d\"}})])\n",
    "for item in collect.find({}):\n",
    "    print(item)\n"
   ]
  },
  {
   "cell_type": "code",
   "execution_count": 39,
   "metadata": {},
   "outputs": [
    {
     "name": "stdout",
     "output_type": "stream",
     "text": [
      "batch op errors occurred, full error: {'writeErrors': [{'index': 2, 'code': 11000, 'keyPattern': {'_id': 1}, 'keyValue': {'_id': 3}, 'errmsg': 'E11000 duplicate key error collection: local.test index: _id_ dup key: { _id: 3 }', 'op': {'_id': 3, 'fruta': 'maça'}}, {'index': 4, 'code': 11000, 'keyPattern': {'_id': 1}, 'keyValue': {'_id': 1}, 'errmsg': 'E11000 duplicate key error collection: local.test index: _id_ dup key: { _id: 1 }', 'op': {'_id': 1, 'fruta': 'maça'}}], 'writeConcernErrors': [], 'nInserted': 2, 'nUpserted': 0, 'nMatched': 0, 'nModified': 0, 'nRemoved': 15, 'upserted': []}\n"
     ]
    }
   ],
   "source": [
    "# The first write failure that occurs (e.g. duplicate key error) aborts the remaining operations,\n",
    "requests = [\n",
    "    DeleteMany({}),\n",
    "    InsertOne({'_id': 3, \"fruta\": \"maça\"}),\n",
    "    InsertOne({'_id': 3, \"fruta\": \"maça\"}),\n",
    "    InsertOne({'_id': 1, \"fruta\": \"maça\"}),\n",
    "    InsertOne({'_id': 1, \"fruta\": \"maça\"}),\n",
    "]\n",
    "try: collect.bulk_write(requests, ordered=False)\n",
    "except Exception as err: print(err)\n",
    "\n",
    "for item in collect.find({}):\n",
    "    print(item)\n"
   ]
  }
 ],
 "metadata": {
  "interpreter": {
   "hash": "128e908363acb280a47a15c84574337f3ac3285f817d31aefc25b0f997ee3c95"
  },
  "kernelspec": {
   "display_name": "Python 3.9.7 ('jupyter')",
   "language": "python",
   "name": "python3"
  },
  "language_info": {
   "codemirror_mode": {
    "name": "ipython",
    "version": 3
   },
   "file_extension": ".py",
   "mimetype": "text/x-python",
   "name": "python",
   "nbconvert_exporter": "python",
   "pygments_lexer": "ipython3",
   "version": "3.9.7"
  },
  "orig_nbformat": 4
 },
 "nbformat": 4,
 "nbformat_minor": 2
}
